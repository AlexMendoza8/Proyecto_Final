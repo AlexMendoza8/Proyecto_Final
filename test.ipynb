{
 "cells": [
  {
   "cell_type": "code",
   "execution_count": 13,
   "metadata": {},
   "outputs": [],
   "source": [
    "\n",
    "from app.citas.api_v1_0.schemas import AppointmentSchema\n",
    "from flask import request\n",
    "appointment_schema = AppointmentSchema()\n",
    "from app.citas.models import Appointment"
   ]
  },
  {
   "cell_type": "code",
   "execution_count": 14,
   "metadata": {},
   "outputs": [],
   "source": [
    "data_in={\n",
    "    \"name\":\"Carlos\",\n",
    "    \"phone_number\":\"525623532\",\n",
    "    \"delta\":10,\n",
    "    \"time\":\"2021-12-11 18:00\",\n",
    "    \"timezone\":\"UTC-5\",\n",
    "}"
   ]
  },
  {
   "cell_type": "code",
   "execution_count": 19,
   "metadata": {},
   "outputs": [
    {
     "data": {
      "text/plain": [
       "Appointment(Carlos)"
      ]
     },
     "execution_count": 19,
     "metadata": {},
     "output_type": "execute_result"
    }
   ],
   "source": [
    "#appointment_dict = appointment_schema.load(data)\n",
    "data = data_in\n",
    "appt = Appointment(\n",
    "                name=data['name'],\n",
    "                phone_number=data['phone_number'],\n",
    "                delta=data['delta'],\n",
    "                time=data['time'],\n",
    "                timezone=data['timezone'],\n",
    "            )\n",
    "appt"
   ]
  }
 ],
 "metadata": {
  "interpreter": {
   "hash": "916dbcbb3f70747c44a77c7bcd40155683ae19c65e1c03b4aa3499c5328201f1"
  },
  "kernelspec": {
   "display_name": "Python 3.8.10 64-bit",
   "language": "python",
   "name": "python3"
  },
  "language_info": {
   "codemirror_mode": {
    "name": "ipython",
    "version": 3
   },
   "file_extension": ".py",
   "mimetype": "text/x-python",
   "name": "python",
   "nbconvert_exporter": "python",
   "pygments_lexer": "ipython3",
   "version": "3.8.10"
  },
  "orig_nbformat": 4
 },
 "nbformat": 4,
 "nbformat_minor": 2
}
